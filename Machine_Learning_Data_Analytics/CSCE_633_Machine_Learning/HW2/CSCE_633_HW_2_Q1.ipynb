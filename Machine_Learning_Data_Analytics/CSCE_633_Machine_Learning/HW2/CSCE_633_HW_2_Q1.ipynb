{
 "cells": [
  {
   "cell_type": "code",
   "execution_count": 1,
   "metadata": {},
   "outputs": [
    {
     "name": "stdout",
     "output_type": "stream",
     "text": [
      "Conditional entropy for attribute temperature: 0.46301201650225676 \n",
      "Conditional entropy for attribute humidity: 0.46301201650225676 \n",
      "Conditional entropy for attribute sky: 0.5317003438502449 \n"
     ]
    }
   ],
   "source": [
    "import math as m\n",
    "\n",
    "'''\n",
    "Conditional entropy on attribute temperature\n",
    "'''\n",
    "\n",
    "total = 40.0\n",
    "proportion = 40.0/80.0\n",
    "\n",
    "rainy_hot = 9+5+6+3\n",
    "notRainy_hot = 1+5+4+7\n",
    "rainy_cold = 7+2+3+1\n",
    "notRainy_cold = 3+8+7+9\n",
    "\n",
    "hot_branch =  - ( ((rainy_hot)/total) + m.log (((rainy_hot)/total)) + ((notRainy_hot)/total) + m.log (((notRainy_hot)/total)) )\n",
    "cold_branch =  - ( ((rainy_cold)/total) + m.log (((rainy_cold)/total)) + ((notRainy_cold)/total) + m.log (((notRainy_cold)/total)) )\n",
    "\n",
    "h_outcome_temp = (hot_branch*proportion) +  (cold_branch*proportion)\n",
    "print(\"Conditional entropy for attribute temperature: %s \" % (h_outcome_temp))\n",
    "\n",
    "'''\n",
    "Conditional entropy on attribute humidity\n",
    "'''\n",
    "\n",
    "\n",
    "rainy_high = 9+5+7+2\n",
    "notRainy_high = 1+5+3+8\n",
    "rainy_low = 6+3+3+1\n",
    "notRainy_low = 4+7+7+9\n",
    "\n",
    "high_branch =  - ( ((rainy_high)/total) + m.log (((rainy_high)/total)) + ((notRainy_high)/total) + m.log (((notRainy_high)/total)) )\n",
    "low_branch =  - ( ((rainy_low )/total) + m.log (((rainy_low )/total)) + ((notRainy_low)/total) + m.log (((notRainy_low)/total)) )\n",
    "\n",
    "h_outcome_humidity = (high_branch*proportion) +  (low_branch*proportion)\n",
    "print(\"Conditional entropy for attribute humidity: %s \" % (h_outcome_humidity))\n",
    "\n",
    "\n",
    "'''\n",
    "Conditional entropy on attribute sky\n",
    "'''\n",
    "rainy_cloud = 9+6+7+3\n",
    "notRainy_cloud = 1+4+3+7\n",
    "rainy_clear = 5+3+2+1\n",
    "notRainy_clear = 5+7+8+9\n",
    "\n",
    "cloud_branch =  - ( ((rainy_cloud)/total) + m.log (((rainy_cloud)/total)) + ((notRainy_cloud)/total) + m.log (((notRainy_cloud)/total)) )\n",
    "clear_branch =  - ( ((rainy_clear )/total) + m.log (((rainy_clear )/total)) + ((notRainy_clear)/total) + m.log (((notRainy_clear)/total)) )\n",
    "\n",
    "h_outcome_sky = (cloud_branch*proportion) +  (clear_branch*proportion)\n",
    "print(\"Conditional entropy for attribute sky: %s \" % (h_outcome_sky))\n"
   ]
  },
  {
   "cell_type": "code",
   "execution_count": null,
   "metadata": {},
   "outputs": [],
   "source": []
  }
 ],
 "metadata": {
  "kernelspec": {
   "display_name": "Python 2",
   "language": "python",
   "name": "python2"
  },
  "language_info": {
   "codemirror_mode": {
    "name": "ipython",
    "version": 3
   },
   "file_extension": ".py",
   "mimetype": "text/x-python",
   "name": "python",
   "nbconvert_exporter": "python",
   "pygments_lexer": "ipython3",
   "version": "3.8.1"
  }
 },
 "nbformat": 4,
 "nbformat_minor": 2
}
