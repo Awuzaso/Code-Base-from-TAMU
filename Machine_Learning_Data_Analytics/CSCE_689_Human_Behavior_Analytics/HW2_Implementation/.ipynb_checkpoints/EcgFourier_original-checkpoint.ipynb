{
 "cells": [
  {
   "cell_type": "code",
   "execution_count": 0,
   "metadata": {
    "colab": {},
    "colab_type": "code",
    "id": "9yvORgDthzt5"
   },
   "outputs": [],
   "source": [
    "import numpy as np\n",
    "import matplotlib.pyplot as plt\n",
    "from scipy import signal"
   ]
  },
  {
   "cell_type": "code",
   "execution_count": 5,
   "metadata": {
    "colab": {
     "base_uri": "https://localhost:8080/",
     "height": 627
    },
    "colab_type": "code",
    "executionInfo": {
     "elapsed": 267,
     "status": "error",
     "timestamp": 1537455352976,
     "user": {
      "displayName": "Larry Powell",
      "photoUrl": "https://lh3.googleusercontent.com/a/default-user=s128",
      "userId": "106874228098976163508"
     },
     "user_tz": 300
    },
    "id": "lRinwS_Qhzt1",
    "outputId": "b56c6f60-ac11-471a-d32f-446c0e7e1b99"
   },
   "outputs": [
    {
     "ename": "OSError",
     "evalue": "ignored",
     "output_type": "error",
     "traceback": [
      "\u001b[0;31m---------------------------------------------------------------------------\u001b[0m",
      "\u001b[0;31mOSError\u001b[0m                                   Traceback (most recent call last)",
      "\u001b[0;32m<ipython-input-5-673ed03cf5fe>\u001b[0m in \u001b[0;36m<module>\u001b[0;34m()\u001b[0m\n\u001b[0;32m----> 1\u001b[0;31m \u001b[0mx123\u001b[0m \u001b[0;34m=\u001b[0m \u001b[0mnp\u001b[0m\u001b[0;34m.\u001b[0m\u001b[0mloadtxt\u001b[0m\u001b[0;34m(\u001b[0m\u001b[0;34m\"./123.txt\"\u001b[0m\u001b[0;34m)\u001b[0m\u001b[0;34m\u001b[0m\u001b[0m\n\u001b[0m\u001b[1;32m      2\u001b[0m \u001b[0mx123\u001b[0m\u001b[0;34m=\u001b[0m\u001b[0mx123\u001b[0m\u001b[0;34m[\u001b[0m\u001b[0;34m:\u001b[0m\u001b[0;34m,\u001b[0m\u001b[0;36m2\u001b[0m\u001b[0;34m]\u001b[0m\u001b[0;34m\u001b[0m\u001b[0m\n\u001b[1;32m      3\u001b[0m \u001b[0mx208\u001b[0m \u001b[0;34m=\u001b[0m \u001b[0mnp\u001b[0m\u001b[0;34m.\u001b[0m\u001b[0mloadtxt\u001b[0m\u001b[0;34m(\u001b[0m\u001b[0;34m\"./208.txt\"\u001b[0m\u001b[0;34m)\u001b[0m\u001b[0;34m\u001b[0m\u001b[0m\n\u001b[1;32m      4\u001b[0m \u001b[0mx208\u001b[0m\u001b[0;34m=\u001b[0m\u001b[0mx208\u001b[0m\u001b[0;34m[\u001b[0m\u001b[0;34m:\u001b[0m\u001b[0;34m,\u001b[0m\u001b[0;36m2\u001b[0m\u001b[0;34m]\u001b[0m\u001b[0;34m\u001b[0m\u001b[0m\n",
      "\u001b[0;32m/usr/local/lib/python3.6/dist-packages/numpy/lib/npyio.py\u001b[0m in \u001b[0;36mloadtxt\u001b[0;34m(fname, dtype, comments, delimiter, converters, skiprows, usecols, unpack, ndmin, encoding)\u001b[0m\n\u001b[1;32m    915\u001b[0m             \u001b[0mfname\u001b[0m \u001b[0;34m=\u001b[0m \u001b[0mstr\u001b[0m\u001b[0;34m(\u001b[0m\u001b[0mfname\u001b[0m\u001b[0;34m)\u001b[0m\u001b[0;34m\u001b[0m\u001b[0m\n\u001b[1;32m    916\u001b[0m         \u001b[0;32mif\u001b[0m \u001b[0m_is_string_like\u001b[0m\u001b[0;34m(\u001b[0m\u001b[0mfname\u001b[0m\u001b[0;34m)\u001b[0m\u001b[0;34m:\u001b[0m\u001b[0;34m\u001b[0m\u001b[0m\n\u001b[0;32m--> 917\u001b[0;31m             \u001b[0mfh\u001b[0m \u001b[0;34m=\u001b[0m \u001b[0mnp\u001b[0m\u001b[0;34m.\u001b[0m\u001b[0mlib\u001b[0m\u001b[0;34m.\u001b[0m\u001b[0m_datasource\u001b[0m\u001b[0;34m.\u001b[0m\u001b[0mopen\u001b[0m\u001b[0;34m(\u001b[0m\u001b[0mfname\u001b[0m\u001b[0;34m,\u001b[0m \u001b[0;34m'rt'\u001b[0m\u001b[0;34m,\u001b[0m \u001b[0mencoding\u001b[0m\u001b[0;34m=\u001b[0m\u001b[0mencoding\u001b[0m\u001b[0;34m)\u001b[0m\u001b[0;34m\u001b[0m\u001b[0m\n\u001b[0m\u001b[1;32m    918\u001b[0m             \u001b[0mfencoding\u001b[0m \u001b[0;34m=\u001b[0m \u001b[0mgetattr\u001b[0m\u001b[0;34m(\u001b[0m\u001b[0mfh\u001b[0m\u001b[0;34m,\u001b[0m \u001b[0;34m'encoding'\u001b[0m\u001b[0;34m,\u001b[0m \u001b[0;34m'latin1'\u001b[0m\u001b[0;34m)\u001b[0m\u001b[0;34m\u001b[0m\u001b[0m\n\u001b[1;32m    919\u001b[0m             \u001b[0mfh\u001b[0m \u001b[0;34m=\u001b[0m \u001b[0miter\u001b[0m\u001b[0;34m(\u001b[0m\u001b[0mfh\u001b[0m\u001b[0;34m)\u001b[0m\u001b[0;34m\u001b[0m\u001b[0m\n",
      "\u001b[0;32m/usr/local/lib/python3.6/dist-packages/numpy/lib/_datasource.py\u001b[0m in \u001b[0;36mopen\u001b[0;34m(path, mode, destpath, encoding, newline)\u001b[0m\n\u001b[1;32m    258\u001b[0m \u001b[0;34m\u001b[0m\u001b[0m\n\u001b[1;32m    259\u001b[0m     \u001b[0mds\u001b[0m \u001b[0;34m=\u001b[0m \u001b[0mDataSource\u001b[0m\u001b[0;34m(\u001b[0m\u001b[0mdestpath\u001b[0m\u001b[0;34m)\u001b[0m\u001b[0;34m\u001b[0m\u001b[0m\n\u001b[0;32m--> 260\u001b[0;31m     \u001b[0;32mreturn\u001b[0m \u001b[0mds\u001b[0m\u001b[0;34m.\u001b[0m\u001b[0mopen\u001b[0m\u001b[0;34m(\u001b[0m\u001b[0mpath\u001b[0m\u001b[0;34m,\u001b[0m \u001b[0mmode\u001b[0m\u001b[0;34m,\u001b[0m \u001b[0mencoding\u001b[0m\u001b[0;34m=\u001b[0m\u001b[0mencoding\u001b[0m\u001b[0;34m,\u001b[0m \u001b[0mnewline\u001b[0m\u001b[0;34m=\u001b[0m\u001b[0mnewline\u001b[0m\u001b[0;34m)\u001b[0m\u001b[0;34m\u001b[0m\u001b[0m\n\u001b[0m\u001b[1;32m    261\u001b[0m \u001b[0;34m\u001b[0m\u001b[0m\n\u001b[1;32m    262\u001b[0m \u001b[0;34m\u001b[0m\u001b[0m\n",
      "\u001b[0;32m/usr/local/lib/python3.6/dist-packages/numpy/lib/_datasource.py\u001b[0m in \u001b[0;36mopen\u001b[0;34m(self, path, mode, encoding, newline)\u001b[0m\n\u001b[1;32m    614\u001b[0m                                       encoding=encoding, newline=newline)\n\u001b[1;32m    615\u001b[0m         \u001b[0;32melse\u001b[0m\u001b[0;34m:\u001b[0m\u001b[0;34m\u001b[0m\u001b[0m\n\u001b[0;32m--> 616\u001b[0;31m             \u001b[0;32mraise\u001b[0m \u001b[0mIOError\u001b[0m\u001b[0;34m(\u001b[0m\u001b[0;34m\"%s not found.\"\u001b[0m \u001b[0;34m%\u001b[0m \u001b[0mpath\u001b[0m\u001b[0;34m)\u001b[0m\u001b[0;34m\u001b[0m\u001b[0m\n\u001b[0m\u001b[1;32m    617\u001b[0m \u001b[0;34m\u001b[0m\u001b[0m\n\u001b[1;32m    618\u001b[0m \u001b[0;34m\u001b[0m\u001b[0m\n",
      "\u001b[0;31mOSError\u001b[0m: ./123.txt not found."
     ]
    }
   ],
   "source": [
    "x123 = np.loadtxt(\"./123.txt\")\n",
    "x123=x123[:,2]\n",
    "x208 = np.loadtxt(\"./208.txt\")\n",
    "x208=x208[:,2]"
   ]
  },
  {
   "cell_type": "code",
   "execution_count": 0,
   "metadata": {
    "colab": {},
    "colab_type": "code",
    "id": "QlTsAIgbhzt6"
   },
   "outputs": [],
   "source": [
    "L=1000\n",
    "Fs=360\n",
    "plt.figure(1)\n",
    "t=np.linspace(1,L,L)/Fs\n",
    "plt.plot(t,x123[0:L],'b-')\n",
    "#mpld3.display(fig)\n"
   ]
  },
  {
   "cell_type": "code",
   "execution_count": 0,
   "metadata": {
    "colab": {},
    "colab_type": "code",
    "id": "Z2LvqmhGhzt8"
   },
   "outputs": [],
   "source": [
    "x123_P=x123[437:521];\n",
    "x123_QRS=x123[522:584];\n",
    "x123_T=x123[609:710];\n",
    "\n"
   ]
  },
  {
   "cell_type": "code",
   "execution_count": 0,
   "metadata": {
    "colab": {},
    "colab_type": "code",
    "id": "BTFa_kx5hzt_"
   },
   "outputs": [],
   "source": [
    "N=70 # FFT length\n",
    "fft_x123_P=np.fft.rfft(x123_P,N)\n",
    "fft_x123_T=np.fft.rfft(x123_T,N)\n",
    "fft_x123_QRS=np.fft.rfft(x123_QRS,N)\n",
    "f = np.linspace(0,(Fs/2),N/2+1)\n",
    "plt.figure(4);plt.plot(f,np.abs(fft_x123_P),'r--')\n",
    "plt.figure(5);plt.plot(f,np.abs(fft_x123_T),'b--')\n",
    "plt.figure(6);plt.plot(f,np.abs(fft_x123_QRS),'g--')"
   ]
  },
  {
   "cell_type": "code",
   "execution_count": 0,
   "metadata": {
    "colab": {},
    "colab_type": "code",
    "id": "ulbN8FmRhzuA"
   },
   "outputs": [],
   "source": [
    "def bandpass_filter(x, lowcut, highcut, Fs, filter_order):\n",
    "    nyquist_freq = 0.5 * Fs\n",
    "    low = lowcut / nyquist_freq\n",
    "    high = highcut / nyquist_freq\n",
    "    b, a = signal.butter(filter_order, [low, high], btype=\"band\")\n",
    "    y = signal.lfilter(b, a, x)\n",
    "    return (y,b,a)\n",
    "\n",
    "def findpeaks(data, spacing, limit):\n",
    "        print(len(data),spacing)\n",
    "        x = np.zeros(len(data) + 2 * spacing)\n",
    "        x[:spacing] = data[0] - 1.e-6\n",
    "        x[-spacing:] = data[-1] - 1.e-6\n",
    "        x[spacing:spacing + len(data)] = data\n",
    "        peak_candidate = np.zeros(len(data))\n",
    "        peak_candidate[:] = True\n",
    "        for s in range(spacing):\n",
    "            start = spacing - s - 1\n",
    "            h_b = x[start: start + len(data)]  # before\n",
    "            start = spacing\n",
    "            h_c = x[start: start + len(data)]  # central\n",
    "            start = spacing + s + 1\n",
    "            h_a = x[start: start + len(data)]  # after\n",
    "            peak_candidate = np.logical_and(peak_candidate, np.logical_and(h_c > h_b, h_c > h_a))\n",
    "        ind = np.argwhere(peak_candidate)\n",
    "        ind = ind.reshape(ind.size)\n",
    "        if limit is not None:\n",
    "            ind = ind[data[ind] > limit]\n",
    "        return ind\n",
    "\n",
    "# segment original signal\n",
    "L=3000\n",
    "x=x123[0:L]\n",
    "t=np.linspace(1,L,L)/Fs\n",
    "\n",
    "# band-pass filter\n",
    "(lowcut,highcut,filter_order)=(4,15,1)\n",
    "(x_bfilt,b,a)=bandpass_filter(x, lowcut, highcut, Fs, filter_order)\n",
    "print(L,len(t),len(x))\n",
    "plt.figure(7);plt.plot(np.linspace(1,len(x_bfilt),len(x_bfilt))/Fs,x,'b-',t,x_bfilt,'g--')\n",
    "\n",
    "# differentiate\n",
    "x_bfilt_diff=np.ediff1d(x_bfilt)\n",
    "plt.figure(9);plt.plot(np.linspace(1,len(x_bfilt_diff),len(x_bfilt_diff))/Fs,x_bfilt_diff,'r-')\n",
    "\n",
    "# square\n",
    "x_bfilt_diff_sq=x_bfilt_diff**2\n",
    "plt.figure(10);plt.plot(np.linspace(1,len(x_bfilt_diff_sq),len(x_bfilt_diff_sq))/Fs,x_bfilt_diff_sq,'k--')\n",
    "\n",
    "# moving average filter\n",
    "MAfilter_len=15\n",
    "x_bfilt_diff_sq_smooth = np.convolve(x_bfilt_diff_sq, np.ones(MAfilter_len))\n",
    "plt.figure(12);plt.figure(11);plt.plot(np.linspace(1,len(x_bfilt_diff_sq_smooth),len(x_bfilt_diff_sq_smooth))/Fs,x_bfilt_diff_sq_smooth,'k-')\n",
    "\n",
    "# find peaks\n",
    "(findpeaks_limit,findpeaks_spacing)=(0.35,50)\n",
    "peaks_indices = findpeaks(x_bfilt_diff_sq_smooth,findpeaks_spacing,findpeaks_limit)\n",
    "print(peaks_indices/Fs)\n",
    "\n",
    "plt.figure(13);plt.plot(np.linspace(1,len(x),len(x))/Fs,x,'b-',peaks_indices/Fs,x[peaks_indices], 'ro')"
   ]
  },
  {
   "cell_type": "code",
   "execution_count": 0,
   "metadata": {
    "colab": {},
    "colab_type": "code",
    "id": "xQkwH5JThzuC"
   },
   "outputs": [],
   "source": [
    "N=70;\n",
    "x_normal=x123[522:584]\n",
    "x_PVC=x208[1321:1491]\n",
    "fft_x_normal=np.fft.rfft(x_normal,N)\n",
    "fft_x_PVC=np.fft.rfft(x_PVC,N)\n",
    "f = np.linspace(0,(Fs/2),N/2+1)\n",
    "plt.figure(10); plt.plot(x123[1:2000],'r--',x208[1:2000],'b--')\n",
    "plt.figure(11);plt.plot(f,np.abs(fft_x_normal),'r--',f,np.abs(fft_x_PVC),'b--')"
   ]
  },
  {
   "cell_type": "code",
   "execution_count": 0,
   "metadata": {
    "colab": {},
    "colab_type": "code",
    "id": "fQ8uGUVLhzuD"
   },
   "outputs": [],
   "source": [
    ""
   ]
  }
 ],
 "metadata": {
  "colab": {
   "name": "EcgFourier.ipynb",
   "provenance": [],
   "version": "0.3.2"
  },
  "kernelspec": {
   "display_name": "Python 3",
   "language": "python",
   "name": "python3"
  }
 },
 "nbformat": 4,
 "nbformat_minor": 0
}
